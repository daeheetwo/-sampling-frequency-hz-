{
 "cells": [
  {
   "cell_type": "code",
   "execution_count": null,
   "id": "412aa12b",
   "metadata": {},
   "outputs": [],
   "source": [
    "import pandas as pd\n",
    "import numpy as np\n",
    "from keras.models import Sequential\n",
    "from keras.layers import Conv1D, MaxPooling1D, Flatten, Dense, Dropout\n",
    "from sklearn.model_selection import train_test_split\n",
    "from sklearn.preprocessing import StandardScaler\n",
    "\n",
    "# 데이터 파일 로드\n",
    "normal_data = pd.read_csv('C:/Users/7-2009-1186-16/Desktop/-sampling-frequency-hz-/vibration_data/re_condition1/300rpm(diff)/Normal/resampled_normal_data_2023_12_7_17_2.csv')\n",
    "faulty_data = pd.read_csv('C:/Users/7-2009-1186-16/Desktop/-sampling-frequency-hz-/vibration_data/re_condition1/300rpm(diff)/Fault1/resampled_fault_data_2023_12_14_13_52.csv')\n",
    "\n",
    "# 정상 데이터에 레이블 0(정상) 할당, 비정상 데이터에 레이블 1(비정상) 할당\n",
    "normal_data['label'] = 0\n",
    "faulty_data['label'] = 1\n",
    "\n",
    "# 데이터 결합\n",
    "combined_data = pd.concat([normal_data, faulty_data], ignore_index=True)\n",
    "\n",
    "# X, Y, Z 축 데이터와 레이블 선택\n",
    "features = combined_data[['motor_x', 'motor_y', 'motor_z']]\n",
    "labels = combined_data['label']\n",
    "\n",
    "# 데이터 정규화\n",
    "scaler = StandardScaler()\n",
    "X = scaler.fit_transform(features)\n",
    "\n",
    "# 훈련/테스트 데이터 분할\n",
    "X_train, X_test, y_train, y_test = train_test_split(X, labels, test_size=0.2, random_state=30)\n",
    "\n",
    "# 1D CNN 입력을 위해 데이터 형태 변경\n",
    "# (샘플 수, 시퀀스 길이, 채널 수)\n",
    "X_train = np.expand_dims(X_train, axis=2)\n",
    "X_test = np.expand_dims(X_test, axis=2)\n",
    "\n",
    "# CNN 모델 생성\n",
    "model = Sequential()\n",
    "model.add(Conv1D(64, kernel_size=3, activation='relu', input_shape=(X_train.shape[1], 1), padding='same'))\n",
    "model.add(MaxPooling1D(pool_size=1))\n",
    "model.add(Flatten())\n",
    "model.add(Dense(50, activation='relu'))\n",
    "model.add(Dropout(0.5))\n",
    "model.add(Dense(1, activation='sigmoid'))  # 이진 분류 출력 레이어\n",
    "\n",
    "# 모델 컴파일\n",
    "model.compile(loss='binary_crossentropy', optimizer='adam', metrics=['accuracy'])\n",
    "\n",
    "# 모델 훈련\n",
    "model.fit(X_train, y_train, epochs=10, batch_size=64, validation_data=(X_test, y_test))\n",
    "\n",
    "model.summury"
   ]
  },
  {
   "cell_type": "code",
   "execution_count": null,
   "id": "0a8e2176",
   "metadata": {},
   "outputs": [],
   "source": []
  }
 ],
 "metadata": {
  "kernelspec": {
   "display_name": "tf377cuda11.1",
   "language": "python",
   "name": "tf377"
  },
  "language_info": {
   "codemirror_mode": {
    "name": "ipython",
    "version": 3
   },
   "file_extension": ".py",
   "mimetype": "text/x-python",
   "name": "python",
   "nbconvert_exporter": "python",
   "pygments_lexer": "ipython3",
   "version": "3.7.16"
  }
 },
 "nbformat": 4,
 "nbformat_minor": 5
}
