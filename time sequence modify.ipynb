{
 "cells": [
  {
   "cell_type": "code",
   "execution_count": 2,
   "id": "1c1ca42a",
   "metadata": {},
   "outputs": [
    {
     "name": "stdout",
     "output_type": "stream",
     "text": [
      "모든 파일이 새 디렉토리에 재조정되어 저장되었습니다.\n"
     ]
    }
   ],
   "source": [
    "import os\n",
    "import pandas as pd\n",
    "\n",
    "# 원본 파일이 있는 디렉토리 경로\n",
    "source_directory_path = 'C:/Users/7-2009-1186-16/Desktop/-sampling-frequency-hz-/vibration_data/condition1/300rpm(diff)/Fault1'\n",
    "\n",
    "# 수정된 파일을 저장할 새 디렉토리 경로\n",
    "target_directory_path = 'C:/Users/7-2009-1186-16/Desktop/-sampling-frequency-hz-/vibration_data/re_condition1/300rpm(diff)/Fault1'\n",
    "\n",
    "# 새 디렉토리 생성 (디렉토리가 이미 존재하지 않는 경우)\n",
    "if not os.path.exists(target_directory_path):\n",
    "    os.makedirs(target_directory_path)\n",
    "\n",
    "# 디렉토리 내의 모든 CSV 파일 수정\n",
    "for filename in os.listdir(source_directory_path):\n",
    "    if filename.endswith('.csv'):\n",
    "        # 원본 파일 경로 설정\n",
    "        file_path = os.path.join(source_directory_path, filename)\n",
    "\n",
    "        # CSV 파일 읽기\n",
    "        data = pd.read_csv(file_path, parse_dates=['time'])\n",
    "        data.set_index('time', inplace=True)\n",
    "\n",
    "        # 시간 간격 재조정 (1분 간격)\n",
    "        resampled_data = data.resample('1T').interpolate()\n",
    "\n",
    "        # 수정된 데이터를 새 디렉토리에 저장\n",
    "        new_filename = f'resampled_{filename}'\n",
    "        resampled_data.to_csv(os.path.join(target_directory_path, new_filename))\n",
    "\n",
    "print(\"모든 파일이 새 디렉토리에 재조정되어 저장되었습니다.\")\n"
   ]
  },
  {
   "cell_type": "code",
   "execution_count": 7,
   "id": "e9f7a5cc",
   "metadata": {},
   "outputs": [
    {
     "name": "stdout",
     "output_type": "stream",
     "text": [
      "    motor_x   motor_y   motor_z                             time\n",
      "0  0.133536  0.000998  0.001945 2023-12-14 13:49:25.974361+00:00\n",
      "1 -0.080404  0.000683  0.009519 2023-12-14 13:49:25.974561+00:00\n",
      "2 -0.022350  0.000683  0.020879 2023-12-14 13:49:25.974761+00:00\n",
      "3 -0.003734  0.000683  0.000367 2023-12-14 13:49:25.974961+00:00\n",
      "4  0.065374  0.001314  0.004470 2023-12-14 13:49:25.975161+00:00\n"
     ]
    }
   ],
   "source": [
    "import pandas as pd\n",
    "import numpy as np\n",
    "\n",
    "# 파일 경로\n",
    "file_path = 'C:/Users/7-2009-1186-16/Desktop/-sampling-frequency-hz-/vibration_data/condition1/300rpm(diff)/Fault1/fault_data_2023_12_14_13_49.csv'\n",
    "\n",
    "# CSV 파일 읽기\n",
    "data = pd.read_csv(file_path)\n",
    "\n",
    "# 데이터의 첫 시간을 기준으로 시간 범위 생성\n",
    "# 전체 기간을 1분(60초)으로 나누고, 이를 300000개 데이터 포인트로 분할\n",
    "start_time = pd.to_datetime(data['time'].iloc[0])\n",
    "time_interval = pd.Timedelta(seconds=60/300000)  # 60초를 300000개로 나눈 간격\n",
    "time_range = pd.date_range(start_time, periods=len(data), freq=time_interval)\n",
    "\n",
    "# 데이터프레임의 'time' 열을 새로 생성된 시간 범위로 교체\n",
    "data['time'] = time_range\n",
    "\n",
    "# 결과 확인을 위해 처음 몇 개의 행을 출력\n",
    "print(data.head())"
   ]
  }
 ],
 "metadata": {
  "kernelspec": {
   "display_name": "tf377cuda11.1",
   "language": "python",
   "name": "tf377"
  },
  "language_info": {
   "codemirror_mode": {
    "name": "ipython",
    "version": 3
   },
   "file_extension": ".py",
   "mimetype": "text/x-python",
   "name": "python",
   "nbconvert_exporter": "python",
   "pygments_lexer": "ipython3",
   "version": "3.7.16"
  }
 },
 "nbformat": 4,
 "nbformat_minor": 5
}
