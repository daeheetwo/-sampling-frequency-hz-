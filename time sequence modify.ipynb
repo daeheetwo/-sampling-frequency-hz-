{
 "cells": [
  {
   "cell_type": "code",
   "execution_count": 2,
   "id": "9e62cac3",
   "metadata": {},
   "outputs": [
    {
     "name": "stdout",
     "output_type": "stream",
     "text": [
      "모든 파일이 새 디렉토리에 재조정되어 저장되었습니다.\n"
     ]
    }
   ],
   "source": [
    "# import os\n",
    "# import pandas as pd\n",
    "\n",
    "# # 원본 파일이 있는 디렉토리 경로\n",
    "# source_directory_path = 'C:/Users/7-2009-1186-16/Desktop/-sampling-frequency-hz-/vibration_data/condition1/300rpm(diff)/Fault1'\n",
    "\n",
    "# # 수정된 파일을 저장할 새 디렉토리 경로\n",
    "# target_directory_path = 'C:/Users/7-2009-1186-16/Desktop/-sampling-frequency-hz-/vibration_data/re_condition1/300rpm(diff)/Fault1'\n",
    "\n",
    "# # 새 디렉토리 생성 (디렉토리가 이미 존재하지 않는 경우)\n",
    "# if not os.path.exists(target_directory_path):\n",
    "#     os.makedirs(target_directory_path)\n",
    "\n",
    "# # 디렉토리 내의 모든 CSV 파일 수정\n",
    "# for filename in os.listdir(source_directory_path):\n",
    "#     if filename.endswith('.csv'):\n",
    "#         # 원본 파일 경로 설정\n",
    "#         file_path = os.path.join(source_directory_path, filename)\n",
    "\n",
    "#         # CSV 파일 읽기\n",
    "#         data = pd.read_csv(file_path, parse_dates=['time'])\n",
    "#         data.set_index('time', inplace=True)\n",
    "\n",
    "#         # 시간 간격 재조정 (1분 간격)\n",
    "#         resampled_data = data.resample('1T').interpolate()\n",
    "\n",
    "#         # 수정된 데이터를 새 디렉토리에 저장\n",
    "#         new_filename = f'resampled_{filename}'\n",
    "#         resampled_data.to_csv(os.path.join(target_directory_path, new_filename))\n",
    "\n",
    "# print(\"모든 파일이 새 디렉토리에 재조정되어 저장되었습니다.\")\n"
   ]
  },
  {
   "cell_type": "code",
   "execution_count": 8,
   "id": "560d7a9c",
   "metadata": {},
   "outputs": [
    {
     "name": "stdout",
     "output_type": "stream",
     "text": [
      "모든 파일이 새 디렉토리에 재조정되어 저장되었습니다.\n"
     ]
    }
   ],
   "source": [
    "import os\n",
    "import pandas as pd\n",
    "\n",
    "# 원본 파일이 있는 디렉토리 경로\n",
    "source_directory_path = 'C:/Users/7-2009-1186-16/Desktop/-sampling-frequency-hz-/vibration_data/condition1/300rpm(diff)/Fault1'\n",
    "\n",
    "# 수정된 파일을 저장할 새 디렉토리 경로\n",
    "target_directory_path = 'C:/Users/7-2009-1186-16/Desktop/-sampling-frequency-hz-/vibration_data/re_condition1/300rpm(diff)/Fault1'\n",
    "\n",
    "# 새 디렉토리 생성 (디렉토리가 이미 존재하지 않는 경우)\n",
    "if not os.path.exists(target_directory_path):\n",
    "    os.makedirs(target_directory_path)\n",
    "\n",
    "# 디렉토리 내의 모든 CSV 파일 수정\n",
    "for filename in os.listdir(source_directory_path):\n",
    "    if filename.endswith('.csv'):\n",
    "        # 원본 파일 경로 설정\n",
    "        file_path = os.path.join(source_directory_path, filename)\n",
    "\n",
    "        # CSV 파일 읽기\n",
    "        data = pd.read_csv(file_path)\n",
    "\n",
    "        # 'time' 열을 datetime 형식으로 변환\n",
    "        data['time'] = pd.to_datetime(data['time'])\n",
    "\n",
    "        # 데이터의 첫 시간을 기준으로 시간 범위 생성\n",
    "        # 전체 기간을 1분으로 나누고, 이를 데이터 개수만큼 나눈 간격으로 설정\n",
    "        start_time = data['time'].iloc[0]\n",
    "        total_rows = len(data)\n",
    "        time_interval = pd.Timedelta(minutes=1) / total_rows\n",
    "        time_range = pd.date_range(start_time, periods=total_rows, freq=time_interval)\n",
    "\n",
    "        # 데이터프레임의 'time' 열을 새로 생성된 시간 범위로 교체\n",
    "        data['time'] = time_range\n",
    "\n",
    "        # 수정된 데이터를 새 디렉토리에 저장\n",
    "        new_filename = f'resampled_{filename}'\n",
    "        data.to_csv(os.path.join(target_directory_path, new_filename), index=False)\n",
    "\n",
    "        \n",
    "print(\"모든 파일이 새 디렉토리에 재조정되어 저장되었습니다.\")"
   ]
  }
 ],
 "metadata": {
  "kernelspec": {
   "display_name": "tf377cuda11.1",
   "language": "python",
   "name": "tf377"
  },
  "language_info": {
   "codemirror_mode": {
    "name": "ipython",
    "version": 3
   },
   "file_extension": ".py",
   "mimetype": "text/x-python",
   "name": "python",
   "nbconvert_exporter": "python",
   "pygments_lexer": "ipython3",
   "version": "3.7.16"
  }
 },
 "nbformat": 4,
 "nbformat_minor": 5
}
