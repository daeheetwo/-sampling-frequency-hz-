{
 "cells": [
  {
   "cell_type": "code",
   "execution_count": 2,
   "id": "ed7a20bf",
   "metadata": {},
   "outputs": [
    {
     "name": "stdout",
     "output_type": "stream",
     "text": [
      "모든 파일이 새 디렉토리에 재조정되어 저장되었습니다.\n"
     ]
    }
   ],
   "source": [
    "import os\n",
    "import pandas as pd\n",
    "\n",
    "# 원본 파일이 있는 디렉토리 경로\n",
    "source_directory_path = 'C:/Users/7-2009-1186-16/Desktop/-sampling-frequency-hz-/vibration_data/condition1/300rpm(diff)/Fault1'\n",
    "\n",
    "# 수정된 파일을 저장할 새 디렉토리 경로\n",
    "target_directory_path = 'C:/Users/7-2009-1186-16/Desktop/-sampling-frequency-hz-/vibration_data/re_condition1/300rpm(diff)/Fault1'\n",
    "\n",
    "# 새 디렉토리 생성 (디렉토리가 이미 존재하지 않는 경우)\n",
    "if not os.path.exists(target_directory_path):\n",
    "    os.makedirs(target_directory_path)\n",
    "\n",
    "# 디렉토리 내의 모든 CSV 파일 수정\n",
    "for filename in os.listdir(source_directory_path):\n",
    "    if filename.endswith('.csv'):\n",
    "        # 원본 파일 경로 설정\n",
    "        file_path = os.path.join(source_directory_path, filename)\n",
    "\n",
    "        # CSV 파일 읽기\n",
    "        data = pd.read_csv(file_path, parse_dates=['time'])\n",
    "        data.set_index('time', inplace=True)\n",
    "\n",
    "        # 시간 간격 재조정 (1분 간격)\n",
    "        resampled_data = data.resample('1T').interpolate()\n",
    "\n",
    "        # 수정된 데이터를 새 디렉토리에 저장\n",
    "        new_filename = f'resampled_{filename}'\n",
    "        resampled_data.to_csv(os.path.join(target_directory_path, new_filename))\n",
    "\n",
    "print(\"모든 파일이 새 디렉토리에 재조정되어 저장되었습니다.\")\n"
   ]
  },
  {
   "cell_type": "code",
   "execution_count": 4,
   "id": "62462346",
   "metadata": {},
   "outputs": [
    {
     "name": "stdout",
     "output_type": "stream",
     "text": [
      "                           motor_x  motor_y  motor_z\n",
      "time                                                \n",
      "2023-12-14 13:48:00+00:00      NaN      NaN      NaN\n",
      "2023-12-14 13:49:00+00:00      NaN      NaN      NaN\n"
     ]
    }
   ],
   "source": [
    "import pandas as pd\n",
    "\n",
    "# 데이터 파일 경로\n",
    "file_path = 'C:/Users/7-2009-1186-16/Desktop/-sampling-frequency-hz-/vibration_data/condition1/300rpm(diff)/Fault1/fault_data_2023_12_14_13_48.csv'\n",
    "\n",
    "# CSV 파일 읽기\n",
    "data = pd.read_csv(file_path, parse_dates=['time'])\n",
    "\n",
    "# 'time' 열을 인덱스로 설정\n",
    "data.set_index('time', inplace=True)\n",
    "\n",
    "# 데이터를 1분 간격으로 재샘플링\n",
    "# 'interpolate()' 함수는 누락된 데이터 포인트를 추정하여 채워넣습니다.\n",
    "resampled_data = data.resample('1T').interpolate()\n",
    "\n",
    "# 결과 확인을 위해 처음 몇 개의 행을 출력\n",
    "print(resampled_data.head())\n",
    "\n",
    "# 필요한 경우 수정된 데이터를 새 파일로 저장\n",
    "# resampled_data.to_csv('/path/to/your/new_file.csv')\n"
   ]
  }
 ],
 "metadata": {
  "kernelspec": {
   "display_name": "tf377cuda11.1",
   "language": "python",
   "name": "tf377"
  },
  "language_info": {
   "codemirror_mode": {
    "name": "ipython",
    "version": 3
   },
   "file_extension": ".py",
   "mimetype": "text/x-python",
   "name": "python",
   "nbconvert_exporter": "python",
   "pygments_lexer": "ipython3",
   "version": "3.7.16"
  }
 },
 "nbformat": 4,
 "nbformat_minor": 5
}
